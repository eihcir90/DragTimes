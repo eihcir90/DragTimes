{
 "cells": [
  {
   "cell_type": "code",
   "execution_count": 1,
   "metadata": {},
   "outputs": [],
   "source": [
    "import urllib.request\n",
    "from bs4 import BeautifulSoup\n",
    "from time import sleep\n",
    "import pandas as pd\n",
    "from tqdm import tqdm"
   ]
  },
  {
   "cell_type": "code",
   "execution_count": 46,
   "metadata": {},
   "outputs": [],
   "source": [
    "#Make header for dataframe & save file. Used the commented line only once.\n",
    "#df = pd.DataFrame(columns=['1/4 Mile ET','1/4 Mile MPH','1/8 Mile ET','1/8 Mile MPH','0-60 Foot ET','VBOX 60-130 MPH','Standing Half Mile MPH','Standing 1 Mile MPH','Temperature F','Density Altitude (DA)','Timeslip Scan','VBOX Graph','VBOX 60-130 MPH.1','VBOX Graph.1','Empty','Horsepower @ wheels','Torque @ wheels','Dyno Type','Dyno Graph','Car Make','Car Model','Car Type','Car Year','Driver','E-Mail','Videos','Web Site','Weight with driver (lbs)','Track','Record Modified','Stock','Engine','Turbos','Supercharger','Boost Control','Boost Pressure (psi)','Intercooler','Nitrous Kit/System','Nitrous Shot','Pistons (rotors)','Port','Rings (seals)','Heads','Connecting Rods','Camshaft','Throttle Body','Intake & Air Filter','Headers  / Downpipe','Midpipe','Exhaust ','Carburetor','Computer ECU Chip Upgrade','Battery','Ignition','Spark Plugs','Fuel Injectors','Fuel Pump','Gas','Pulley','Transmission','Clutch/Torq Conv','Differential','Radiator','Flywheel','Shifter','Gears','Suspension','Wheels ','Brake Rotors/Pads','Tires'])\n",
    "#df.to_csv('carlist.csv', encoding='utf-8')"
   ]
  },
  {
   "cell_type": "code",
   "execution_count": null,
   "metadata": {},
   "outputs": [],
   "source": [
    "#Declares a dataframe from csv file.\n",
    "df = pd.read_csv('carlist.csv')\n",
    "df = df.drop(df.columns[0],axis=1)"
   ]
  },
  {
   "cell_type": "code",
   "execution_count": 2,
   "metadata": {},
   "outputs": [],
   "source": [
    "#Wait is used throughout the script.\n",
    "wait = 60 #60 second wait time"
   ]
  },
  {
   "cell_type": "code",
   "execution_count": 3,
   "metadata": {},
   "outputs": [],
   "source": [
    "#Get URLs for each make in the scrape_page.\n",
    "sleep(wait)\n",
    "scrape_page = 'http://dragtimes.com/browse.php'\n",
    "hdr = { 'User-Agent' : 'Mozilla/5.0 (Windows NT 6.1; Win64; x64)' }\n",
    "req = urllib.request.Request(scrape_page, headers=hdr)\n",
    "response = urllib.request.urlopen(req)\n",
    "soup = BeautifulSoup(response, 'html.parser')\n",
    "make = soup.find_all('div', attrs={'class':'list-area'})\n",
    "\n",
    "make_URLS = []\n",
    "make1 = make[0].find_all('a')\n",
    "for x in make1:\n",
    "    make_URLS.append('http://dragtimes.com/'+x['href'])\n",
    "del make_URLS[0]"
   ]
  },
  {
   "cell_type": "code",
   "execution_count": 4,
   "metadata": {},
   "outputs": [],
   "source": [
    "#URLS for ALL records of the make\n",
    "make_ALL = []\n",
    "for x in make_URLS:\n",
    "    sleep(wait)\n",
    "    req = urllib.request.Request(x, headers=hdr)\n",
    "    response = urllib.request.urlopen(req)\n",
    "    soup = BeautifulSoup(response, 'html.parser')\n",
    "    ALL = soup.find_all('div', attrs={'class':'list-area'})\n",
    "    make_ALL.append('http://www.dragtimes.com/'+ALL[0].find_all('a')[0]['href'])"
   ]
  },
  {
   "cell_type": "code",
   "execution_count": 47,
   "metadata": {},
   "outputs": [
    {
     "name": "stderr",
     "output_type": "stream",
     "text": [
      " 98%|█████████▊| 124/127 [1:46:41<18:43, 374.51s/it]/home/miko/anaconda3/lib/python3.7/site-packages/IPython/core/interactiveshell.py:3020: DtypeWarning: Columns (8,18,27,29,31,32,34,36,38,39,40,41,42,43,44,45,46,47,48,49,50,51,53,54,56,57,59,61,62,63,64,65,66,67,68,69) have mixed types. Specify dtype option on import or set low_memory=False.\n",
      "  interactivity=interactivity, compiler=compiler, result=result)\n",
      "/home/miko/anaconda3/lib/python3.7/site-packages/IPython/core/interactiveshell.py:3020: DtypeWarning: Columns (8,18,27,31,32,34,36,38,39,40,41,42,43,44,45,46,48,49,50,51,53,54,56,57,59,61,62,63,64,65,66,67,68,69) have mixed types. Specify dtype option on import or set low_memory=False.\n",
      "  interactivity=interactivity, compiler=compiler, result=result)\n",
      "/home/miko/anaconda3/lib/python3.7/site-packages/IPython/core/interactiveshell.py:3020: DtypeWarning: Columns (8,27,31,34,36,38,39,41,42,43,45,46,48,49,50,51,53,54,56,57,59,61,62,63,64,65,66,67,68,69) have mixed types. Specify dtype option on import or set low_memory=False.\n",
      "  interactivity=interactivity, compiler=compiler, result=result)\n",
      "/home/miko/anaconda3/lib/python3.7/site-packages/IPython/core/interactiveshell.py:3020: DtypeWarning: Columns (8,27,34,36,38,39,41,42,43,45,46,48,49,50,51,53,54,56,57,59,61,62,63,64,65,66,67,68,69) have mixed types. Specify dtype option on import or set low_memory=False.\n",
      "  interactivity=interactivity, compiler=compiler, result=result)\n",
      "/home/miko/anaconda3/lib/python3.7/site-packages/IPython/core/interactiveshell.py:3020: DtypeWarning: Columns (8,27,34,38,39,41,42,46,48,49,51,53,54,56,57,59,61,62,63,64,65,66,67,68,69) have mixed types. Specify dtype option on import or set low_memory=False.\n",
      "  interactivity=interactivity, compiler=compiler, result=result)\n",
      "/home/miko/anaconda3/lib/python3.7/site-packages/IPython/core/interactiveshell.py:3020: DtypeWarning: Columns (8,38,39,41,42,46,48,49,51,53,54,56,57,59,61,62,63,64,65,66,67,68,69) have mixed types. Specify dtype option on import or set low_memory=False.\n",
      "  interactivity=interactivity, compiler=compiler, result=result)\n",
      "/home/miko/anaconda3/lib/python3.7/site-packages/IPython/core/interactiveshell.py:3020: DtypeWarning: Columns (8,38,39,41,42,51,53,54,57,59,61,62,63,64,65,66,67,68,69) have mixed types. Specify dtype option on import or set low_memory=False.\n",
      "  interactivity=interactivity, compiler=compiler, result=result)\n",
      "/home/miko/anaconda3/lib/python3.7/site-packages/IPython/core/interactiveshell.py:3020: DtypeWarning: Columns (8,38,39,41,42,51,59,61,63,68) have mixed types. Specify dtype option on import or set low_memory=False.\n",
      "  interactivity=interactivity, compiler=compiler, result=result)\n",
      "/home/miko/anaconda3/lib/python3.7/site-packages/IPython/core/interactiveshell.py:3020: DtypeWarning: Columns (8,38,39,41,42,51,59,63,68) have mixed types. Specify dtype option on import or set low_memory=False.\n",
      "  interactivity=interactivity, compiler=compiler, result=result)\n",
      "/home/miko/anaconda3/lib/python3.7/site-packages/IPython/core/interactiveshell.py:3020: DtypeWarning: Columns (8,38,39,41,42,51,59,63) have mixed types. Specify dtype option on import or set low_memory=False.\n",
      "  interactivity=interactivity, compiler=compiler, result=result)\n",
      "/home/miko/anaconda3/lib/python3.7/site-packages/IPython/core/interactiveshell.py:3020: DtypeWarning: Columns (8,59) have mixed types. Specify dtype option on import or set low_memory=False.\n",
      "  interactivity=interactivity, compiler=compiler, result=result)\n",
      "/home/miko/anaconda3/lib/python3.7/site-packages/IPython/core/interactiveshell.py:3020: DtypeWarning: Columns (8) have mixed types. Specify dtype option on import or set low_memory=False.\n",
      "  interactivity=interactivity, compiler=compiler, result=result)\n",
      "100%|██████████| 127/127 [1:57:08<00:00, 235.97s/it]\n"
     ]
    }
   ],
   "source": [
    "getcars= True\n",
    "while getcars:\n",
    "    try:\n",
    "        # makedone.txt, makepagedone.txt, and carlistdoneurl.txt is used to load from previous session and runs where it lefted off.\n",
    "        with open('makedone.txt') as f: \n",
    "            done_make = f.read()\n",
    "\n",
    "        with open('makepagedone.txt') as f: \n",
    "            done_make_page = f.read()\n",
    "\n",
    "        with open('carlistdoneurl.txt') as f: \n",
    "            done_cars = f.read()\n",
    "\n",
    "\n",
    "\n",
    "        #Get max page number and make urls for each make pages\n",
    "\n",
    "        for make in tqdm(make_ALL):\n",
    "            if make in done_make:\n",
    "                pass\n",
    "            else:\n",
    "                #sleep(wait)\n",
    "                scrape_page = make\n",
    "                #Header for request.\n",
    "                hdr = { 'User-Agent' : 'Mozilla/5.0 (Windows NT 6.1; Win64; x64)' }\n",
    "                req = urllib.request.Request(scrape_page, headers=hdr)\n",
    "                response = urllib.request.urlopen(req)\n",
    "                soup = BeautifulSoup(response, 'html.parser')\n",
    "                try:\n",
    "                    max_page_nums = soup.find_all('center')[4].find_all('a')[-2].text\n",
    "                except:\n",
    "                    max_page_nums = 1\n",
    "\n",
    "                Make_Page_URLS = []\n",
    "                for pg in range(int(max_page_nums)):\n",
    "                    Make_Page_URLS.append(scrape_page+'?resultpage='+str(pg+1))\n",
    "                # Loop through each page and find each car link\n",
    "                for make_page in Make_Page_URLS:\n",
    "                    if make_page in done_make_page:\n",
    "                        pass\n",
    "                    else:\n",
    "                        \n",
    "                        sleep(wait)\n",
    "                        #Header for request.\n",
    "                        hdr = { 'User-Agent' : 'Mozilla/5.0 (Windows NT 6.1; Win64; x64)' }\n",
    "                        req = urllib.request.Request(make_page, headers=hdr)\n",
    "                        response = urllib.request.urlopen(req)\n",
    "                        soup = BeautifulSoup(response, 'html.parser')\n",
    "                        links = soup.find('table', attrs={'class':'browse3table'}).find_all('a')\n",
    "                        car_links = []\n",
    "                        for x in links:\n",
    "                            car_links.append('http://www.dragtimes.com/'+x['href'])\n",
    "                        car_links = list(set(car_links))\n",
    "\n",
    "                        #Loop through each car link and get the data\n",
    "                        for y in car_links:\n",
    "                            if y in done_cars:\n",
    "                                pass\n",
    "                            else:\n",
    "                                pd.read_csv('carlist.csv')\n",
    "                                sleep(wait)\n",
    "                                hdr = { 'User-Agent' : 'Mozilla/5.0 (Windows NT 6.1; Win64; x64)' }\n",
    "                                req = urllib.request.Request(y, headers=hdr)\n",
    "                                response = urllib.request.urlopen(req)\n",
    "                                soup = BeautifulSoup(response, 'html.parser')\n",
    "                                t3 = soup.find_all('span')\n",
    "                                dflist = []\n",
    "                                for x in t3[6:-1]:\n",
    "                                    dflist.append(x.text)\n",
    "                                hellodf = pd.DataFrame([dflist],columns=['1/4 Mile ET','1/4 Mile MPH','1/8 Mile ET','1/8 Mile MPH','0-60 Foot ET','VBOX 60-130 MPH','Standing Half Mile MPH','Standing 1 Mile MPH','Temperature F','Density Altitude (DA)','Timeslip Scan','VBOX Graph','VBOX 60-130 MPH.1','VBOX Graph.1','Empty','Horsepower @ wheels','Torque @ wheels','Dyno Type','Dyno Graph','Car Make','Car Model','Car Type','Car Year','Driver','E-Mail','Videos','Web Site','Weight with driver (lbs)','Track','Record Modified','Stock','Engine','Turbos','Supercharger','Boost Control','Boost Pressure (psi)','Intercooler','Nitrous Kit/System','Nitrous Shot','Pistons (rotors)','Port','Rings (seals)','Heads','Connecting Rods','Camshaft','Throttle Body','Intake & Air Filter','Headers  / Downpipe','Midpipe','Exhaust ','Carburetor','Computer ECU Chip Upgrade','Battery','Ignition','Spark Plugs','Fuel Injectors','Fuel Pump','Gas','Pulley','Transmission','Clutch/Torq Conv','Differential','Radiator','Flywheel','Shifter','Gears','Suspension','Wheels ','Brake Rotors/Pads','Tires'])\n",
    "                                df = df.append(hellodf)\n",
    "                                df.to_csv('carlist.csv', encoding='utf-8')\n",
    "                                file = open('carlistdoneurl.txt','a')\n",
    "                                file.write(str(y)+'\\n')\n",
    "                                file.close()\n",
    "                        with open('makepagedone.txt','a') as f:\n",
    "                            f.write(\"\\n\"+make_page)\n",
    "                with open('makedone.txt','a') as f:\n",
    "                    f.write(\"\\n\"+make)\n",
    "        getcars = False\n",
    "    except TimeoutError:\n",
    "        print('timed out')\n",
    "    except requests.HTTPError:\n",
    "         print('url error')"
   ]
  },
  {
   "cell_type": "code",
   "execution_count": null,
   "metadata": {},
   "outputs": [],
   "source": []
  },
  {
   "cell_type": "code",
   "execution_count": null,
   "metadata": {},
   "outputs": [],
   "source": []
  },
  {
   "cell_type": "code",
   "execution_count": null,
   "metadata": {},
   "outputs": [],
   "source": []
  },
  {
   "cell_type": "code",
   "execution_count": null,
   "metadata": {},
   "outputs": [],
   "source": []
  },
  {
   "cell_type": "code",
   "execution_count": 255,
   "metadata": {},
   "outputs": [],
   "source": []
  },
  {
   "cell_type": "code",
   "execution_count": 256,
   "metadata": {},
   "outputs": [],
   "source": []
  },
  {
   "cell_type": "code",
   "execution_count": 212,
   "metadata": {},
   "outputs": [],
   "source": []
  },
  {
   "cell_type": "code",
   "execution_count": 248,
   "metadata": {},
   "outputs": [],
   "source": []
  },
  {
   "cell_type": "code",
   "execution_count": null,
   "metadata": {},
   "outputs": [],
   "source": []
  },
  {
   "cell_type": "code",
   "execution_count": null,
   "metadata": {},
   "outputs": [],
   "source": []
  },
  {
   "cell_type": "code",
   "execution_count": null,
   "metadata": {},
   "outputs": [],
   "source": []
  },
  {
   "cell_type": "code",
   "execution_count": null,
   "metadata": {},
   "outputs": [],
   "source": []
  },
  {
   "cell_type": "code",
   "execution_count": null,
   "metadata": {},
   "outputs": [],
   "source": []
  },
  {
   "cell_type": "code",
   "execution_count": null,
   "metadata": {},
   "outputs": [],
   "source": []
  },
  {
   "cell_type": "code",
   "execution_count": null,
   "metadata": {},
   "outputs": [],
   "source": []
  }
 ],
 "metadata": {
  "kernelspec": {
   "display_name": "Python 3",
   "language": "python",
   "name": "python3"
  },
  "language_info": {
   "codemirror_mode": {
    "name": "ipython",
    "version": 3
   },
   "file_extension": ".py",
   "mimetype": "text/x-python",
   "name": "python",
   "nbconvert_exporter": "python",
   "pygments_lexer": "ipython3",
   "version": "3.6.4"
  }
 },
 "nbformat": 4,
 "nbformat_minor": 2
}
